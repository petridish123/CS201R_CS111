{
 "cells": [
  {
   "cell_type": "code",
   "execution_count": 2,
   "metadata": {},
   "outputs": [],
   "source": [
    "import pandas as pd\n",
    "import re"
   ]
  },
  {
   "cell_type": "code",
   "execution_count": 3,
   "metadata": {},
   "outputs": [],
   "source": [
    "import warnings\n",
    "warnings.filterwarnings(\"ignore\")"
   ]
  },
  {
   "cell_type": "markdown",
   "metadata": {},
   "source": [
    "# Data Cleaning\n",
    "\n",
    "Did some cleaning here.\n",
    "- Removed weird parenthesized numbers after lab and homework names, as I didn't like them.\n",
    "- Added columns for each exam calculating letter grades."
   ]
  },
  {
   "cell_type": "code",
   "execution_count": 8,
   "metadata": {},
   "outputs": [
    {
     "name": "stdout",
     "output_type": "stream",
     "text": [
      "Index(['Lab 02', 'Lab 03', 'Lab 04', 'Lab 05', 'Lab 06', 'Lab 07', 'Lab 08',\n",
      "       'Lab 09', 'Lab 10', 'Lab 11', 'Lab 12', 'Lab 13', 'Lab 14', 'Lab 15',\n",
      "       'Lab 16', 'Lab 17', 'Lab 20', 'Lab 21', 'Lab 22', 'Lab 23',\n",
      "       'Homework 1', 'Homework 2', 'Homework 3', 'Homework 4', 'Homework 5',\n",
      "       'Homework 6', 'Homework 7', 'Project 1', 'Project 2A', 'Project 2B',\n",
      "       'Project 3', 'Project 4', 'Midterm 1', 'Midterm 2', 'Final Exam',\n",
      "       'Midterm 1 Grade', 'Midterm 2 Grade', 'Final Exam Grade'],\n",
      "      dtype='object')\n"
     ]
    }
   ],
   "source": [
    "train_data = pd.read_csv('Training_w_midterm.csv')\n",
    "\n",
    "data = pd.read_csv('Testing_w_midterm.csv', header=None)\n",
    "\n",
    "data.columns = train_data.columns\n",
    "\n",
    "data.rename(columns=lambda x: re.sub('\\s\\([^)]*\\)', '', x), inplace=True)\n",
    "\n",
    "def score_to_grade(score, mult):\n",
    "    score *= mult\n",
    "    if score >= 97:\n",
    "        return 'A+'\n",
    "    elif score >= 94:\n",
    "        return 'A'\n",
    "    elif score >= 90:\n",
    "        return 'A-'\n",
    "    elif score >= 87:\n",
    "        return 'B+'\n",
    "    elif score >= 84:\n",
    "        return 'B'\n",
    "    elif score >= 80:\n",
    "        return 'B-'\n",
    "    elif score >= 77:\n",
    "        return 'C+'\n",
    "    elif score >= 74:\n",
    "        return 'C'\n",
    "    elif score >= 70:\n",
    "        return 'C-'\n",
    "    elif score >= 67:\n",
    "        return 'D+'\n",
    "    elif score >= 64:\n",
    "        return 'D'\n",
    "    elif score >= 60:\n",
    "        return 'D-'\n",
    "    else:\n",
    "        return 'E'\n",
    "\n",
    "data['Midterm 1 Grade'] = data['Midterm 1'].apply(lambda score: score_to_grade(score, 2.5))\n",
    "data['Midterm 2 Grade'] = data['Midterm 2'].apply(lambda score: score_to_grade(score, 2.5))\n",
    "data['Final Exam Grade'] = data['Final Exam'].apply(lambda score: score_to_grade(score, 1.5625))\n",
    "\n",
    "data.fillna(0, inplace=True)\n",
    "print(data.columns)"
   ]
  },
  {
   "cell_type": "code",
   "execution_count": 9,
   "metadata": {},
   "outputs": [
    {
     "name": "stdout",
     "output_type": "stream",
     "text": [
      "Number of students in the class: 102\n",
      "Number of columns: 38\n"
     ]
    }
   ],
   "source": [
    "print(f'Number of students in the class: {len(data)}')\n",
    "print(f'Number of columns: {len(data.columns)}')"
   ]
  },
  {
   "cell_type": "markdown",
   "metadata": {},
   "source": [
    "Writes out the pre-Midterm 1 data."
   ]
  },
  {
   "cell_type": "code",
   "execution_count": 10,
   "metadata": {},
   "outputs": [
    {
     "name": "stdout",
     "output_type": "stream",
     "text": [
      "Index(['Homework 1', 'Homework 2', 'Homework 3', 'Lab 02', 'Lab 03', 'Lab 04',\n",
      "       'Lab 05', 'Lab 06', 'Lab 07', 'Lab 08', 'Lab 09', 'Lab 10', 'Project 1',\n",
      "       'Project 2A', 'Midterm 1', 'Midterm 1 Grade'],\n",
      "      dtype='object')\n"
     ]
    }
   ],
   "source": [
    "premt1_data = pd.DataFrame()\n",
    "\n",
    "homework_premt1 = data.filter(regex='^Homework')\n",
    "\n",
    "for column in homework_premt1.columns:\n",
    "    _, val = column.split()\n",
    "    if int(val) > 3:\n",
    "        homework_premt1.drop([column], axis=1, inplace=True)\n",
    "\n",
    "premt1_data[homework_premt1.columns] = homework_premt1\n",
    "\n",
    "lab_premt1 = data.filter(regex='^Lab')\n",
    "\n",
    "for column in lab_premt1.columns:\n",
    "    _, val = column.split()\n",
    "    if int(val) > 10:\n",
    "        lab_premt1.drop([column], axis=1, inplace=True)\n",
    "\n",
    "premt1_data[lab_premt1.columns] = lab_premt1\n",
    "\n",
    "premt1_data[['Project 1', 'Project 2A']] = data[['Project 1', 'Project 2A']]\n",
    "\n",
    "premt1_data[['Midterm 1', 'Midterm 1 Grade']] = data[['Midterm 1', 'Midterm 1 Grade']]\n",
    "\n",
    "print(premt1_data.columns)\n",
    "\n",
    "premt1_data.to_csv('pre_mt1_test.csv', index=False)"
   ]
  },
  {
   "cell_type": "code",
   "execution_count": 11,
   "metadata": {},
   "outputs": [
    {
     "name": "stdout",
     "output_type": "stream",
     "text": [
      "Index(['Homework 1', 'Homework 2', 'Homework 3', 'Homework 4', 'Homework 5',\n",
      "       'Homework 6', 'Lab 02', 'Lab 03', 'Lab 04', 'Lab 05', 'Lab 06',\n",
      "       'Lab 07', 'Lab 08', 'Lab 09', 'Lab 10', 'Lab 11', 'Lab 12', 'Lab 13',\n",
      "       'Lab 14', 'Lab 15', 'Lab 16', 'Lab 17', 'Project 1', 'Project 2A',\n",
      "       'Project 2B', 'Project 3', 'Midterm 1', 'Midterm 2', 'Midterm 2 Grade'],\n",
      "      dtype='object')\n"
     ]
    }
   ],
   "source": [
    "premt2_data = pd.DataFrame()\n",
    "\n",
    "homework_premt2 = data.filter(regex='^Homework')\n",
    "\n",
    "for column in homework_premt2.columns:\n",
    "    _, val = column.split()\n",
    "    if int(val) > 6:\n",
    "        homework_premt2.drop([column], axis=1, inplace=True)\n",
    "\n",
    "premt2_data[homework_premt2.columns] = homework_premt2\n",
    "\n",
    "lab_premt2 = data.filter(regex='^Lab')\n",
    "\n",
    "for column in lab_premt2.columns:\n",
    "    _, val = column.split()\n",
    "    if int(val) > 17:\n",
    "        lab_premt2.drop([column], axis=1, inplace=True)\n",
    "\n",
    "premt2_data[lab_premt2.columns] = lab_premt2\n",
    "\n",
    "premt2_data[['Project 1', 'Project 2A', 'Project 2B', 'Project 3']] = data[['Project 1', 'Project 2A', 'Project 2B', 'Project 3']]\n",
    "\n",
    "premt2_data['Midterm 1'] = data['Midterm 1']\n",
    "\n",
    "premt2_data[['Midterm 2', 'Midterm 2 Grade']] = data[['Midterm 2', 'Midterm 2 Grade']]\n",
    "\n",
    "print(premt2_data.columns)\n",
    "\n",
    "premt2_data.to_csv('pre_mt2_test.csv', index=False)"
   ]
  },
  {
   "cell_type": "code",
   "execution_count": 12,
   "metadata": {},
   "outputs": [
    {
     "name": "stdout",
     "output_type": "stream",
     "text": [
      "Index(['Lab 02', 'Lab 03', 'Lab 04', 'Lab 05', 'Lab 06', 'Lab 07', 'Lab 08',\n",
      "       'Lab 09', 'Lab 10', 'Lab 11', 'Lab 12', 'Lab 13', 'Lab 14', 'Lab 15',\n",
      "       'Lab 16', 'Lab 17', 'Lab 20', 'Lab 21', 'Lab 22', 'Lab 23',\n",
      "       'Homework 1', 'Homework 2', 'Homework 3', 'Homework 4', 'Homework 5',\n",
      "       'Homework 6', 'Homework 7', 'Project 1', 'Project 2A', 'Project 2B',\n",
      "       'Project 3', 'Project 4', 'Midterm 1', 'Midterm 2', 'Final Exam',\n",
      "       'Final Exam Grade'],\n",
      "      dtype='object')\n"
     ]
    }
   ],
   "source": [
    "prefinal_data = data.drop(['Midterm 1 Grade', 'Midterm 2 Grade'], axis=1)\n",
    "\n",
    "print(prefinal_data.columns)\n",
    "\n",
    "prefinal_data.to_csv('pre_final_test.csv', index=False)"
   ]
  }
 ],
 "metadata": {
  "kernelspec": {
   "display_name": "base",
   "language": "python",
   "name": "python3"
  },
  "language_info": {
   "codemirror_mode": {
    "name": "ipython",
    "version": 3
   },
   "file_extension": ".py",
   "mimetype": "text/x-python",
   "name": "python",
   "nbconvert_exporter": "python",
   "pygments_lexer": "ipython3",
   "version": "3.11.5"
  }
 },
 "nbformat": 4,
 "nbformat_minor": 2
}
