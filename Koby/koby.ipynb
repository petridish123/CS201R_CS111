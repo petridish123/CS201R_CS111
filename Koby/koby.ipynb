{
  "nbformat": 4,
  "nbformat_minor": 0,
  "metadata": {
    "colab": {
      "provenance": []
    },
    "kernelspec": {
      "name": "python3",
      "display_name": "Python 3"
    },
    "language_info": {
      "name": "python"
    }
  },
  "cells": [
    {
      "cell_type": "markdown",
      "source": [
        "# **Koby's CS111 Notebook**\n",
        "My hope is to get some fairly accurate models to put together to an ensamble.\n",
        "\n",
        "\n"
      ],
      "metadata": {
        "id": "8oSqjWqAJfor"
      }
    },
    {
      "cell_type": "code",
      "source": [
        "import numpy as np\n",
        "import pandas as pd\n",
        "import matplotlib.pyplot as plt\n",
        "from sklearn.neural_network import MLPClassifier\n",
        "from sklearn.neural_network import MLPRegressor\n",
        "\n",
        "from sklearn.neighbors import KNeighborsClassifier\n",
        "from sklearn.neighbors import KNeighborsRegressor\n",
        "\n",
        "from sklearn.tree import DecisionTreeRegressor\n",
        "from sklearn.model_selection import train_test_split"
      ],
      "metadata": {
        "id": "QrxOTeHwJeNS"
      },
      "execution_count": 9,
      "outputs": []
    },
    {
      "cell_type": "code",
      "source": [
        "# Fetch training data\n",
        "#!curl --remote-name \\-H 'Accept: application/vnd.github.v3.raw' \\--location https://github.com/petridish123/CS201R_CS111/blob/89c6e77108581e0ecc1f0eaf7ed57f9a91b3f9fe/Koby/pre_mt2_train.csv\n",
        "#file doesnt work when i use that ^^\n",
        "\n",
        "#Load and split data\n",
        "grades_upto_mid2 = pd.read_csv(\"pre_mt2_train.csv\")\n",
        "X = grades_upto_mid2.iloc[:,:-2]\n",
        "y_scores = grades_upto_mid2.iloc[:,-2]\n",
        "\n",
        "y_grades = grades_upto_mid2.iloc[:,-1]\n",
        "#print(y_scores)\n",
        "X_train, X_test, y_train, y_test = train_test_split(X,y_grades, test_size=.2)\n",
        "X_train_scores, X_test_scores, y_train_scores, y_test_scores, = train_test_split(X,y_scores, test_size=.2)\n"
      ],
      "metadata": {
        "id": "G_Ga5WR3Ro7n"
      },
      "execution_count": 5,
      "outputs": []
    },
    {
      "cell_type": "code",
      "source": [
        "mlp = MLPClassifier(hidden_layer_sizes=(16,4,2,1), activation='logistic', solver= 'sgd', alpha= 0.01, batch_size= 1, learning_rate_init= .01, shuffle= True, momentum= 0, n_iter_no_change=50, max_iter=1000,)\n",
        "mlp.fit(X_train, y_train)\n",
        "print(\"Training set score: %f\" % mlp.score(X_train, y_train))\n",
        "print(\"Test set score: %f\" % mlp.score(X_test, y_test))"
      ],
      "metadata": {
        "colab": {
          "base_uri": "https://localhost:8080/"
        },
        "id": "aKF31HvxShD_",
        "outputId": "62c92d37-90bc-4e54-ddfa-9ce6ce50d44b"
      },
      "execution_count": 6,
      "outputs": [
        {
          "output_type": "stream",
          "name": "stdout",
          "text": [
            "Training set score: 0.305556\n",
            "Test set score: 0.353659\n"
          ]
        }
      ]
    },
    {
      "cell_type": "code",
      "source": [
        "mlp = MLPRegressor(hidden_layer_sizes=(16,), activation='logistic', solver= 'sgd', alpha= 0, batch_size= 1, learning_rate_init= .001, shuffle= True, momentum= 0, n_iter_no_change=50, max_iter=1000,)\n",
        "mlp.fit(X_train_scores, y_train_scores)\n",
        "print(\"Training set score: %f\" % mlp.score(X_train_scores, y_train_scores))\n",
        "print(\"Test set score: %f\" % mlp.score(X_test_scores, y_test_scores))"
      ],
      "metadata": {
        "id": "zZaM5wKYtYHG",
        "outputId": "9584b4a6-6a52-47a9-a4ad-5559d704d555",
        "colab": {
          "base_uri": "https://localhost:8080/"
        }
      },
      "execution_count": 7,
      "outputs": [
        {
          "output_type": "stream",
          "name": "stdout",
          "text": [
            "Training set score: 0.431713\n",
            "Test set score: 0.369564\n"
          ]
        }
      ]
    },
    {
      "cell_type": "markdown",
      "source": [
        "# **MLP Classifier**\n",
        "\n",
        "With starting with 30 ish% testing accuracy.\n",
        "I tried a whole bunch of different layers and whatnot and couldnt get anything better.\n",
        "# **MLP Regressor**\n",
        "\n",
        "About the same as the classifier with basic parameters with a learning rate of .001 and 16, hidden layers i got 37%"
      ],
      "metadata": {
        "id": "Piw2nZp9X7uf"
      }
    },
    {
      "cell_type": "code",
      "source": [
        "clf = KNeighborsClassifier(n_neighbors= 10, weights= 'distance')\n",
        "clf.fit(X_train,y_train)\n",
        "print(f\"Training score: {clf.score(X_train, y_train)}\")\n",
        "print(f\"Testing score: {clf.score(X_test, y_test)}\")"
      ],
      "metadata": {
        "id": "lynX5-1ksszq",
        "outputId": "f72e93db-7376-40d2-ee98-24a40206c4bd",
        "colab": {
          "base_uri": "https://localhost:8080/"
        }
      },
      "execution_count": 8,
      "outputs": [
        {
          "output_type": "stream",
          "name": "stdout",
          "text": [
            "Training score: 0.8148148148148148\n",
            "Testing score: 0.35365853658536583\n"
          ]
        }
      ]
    },
    {
      "cell_type": "code",
      "source": [
        "clf = KNeighborsRegressor(n_neighbors= 10, weights= 'distance')\n",
        "clf.fit(X_train_scores,y_train_scores)\n",
        "print(f\"Training score: {clf.score(X_train_scores, y_train_scores)}\")\n",
        "print(f\"Testing score: {clf.score(X_test_scores, y_test_scores)}\")"
      ],
      "metadata": {
        "id": "LgtrF43wBP1H",
        "outputId": "6ca94a91-de6e-4c5d-da79-37fb2f835370",
        "colab": {
          "base_uri": "https://localhost:8080/"
        }
      },
      "execution_count": 10,
      "outputs": [
        {
          "output_type": "stream",
          "name": "stdout",
          "text": [
            "Training score: 0.9728933318181986\n",
            "Testing score: 0.6488728168403193\n"
          ]
        }
      ]
    },
    {
      "cell_type": "markdown",
      "source": [
        "# **KNN Classifier**\n",
        "\n",
        "Right away the test score is low, around 20%.\n",
        "# **KNN Regressor**\n",
        "Was able to get 65%"
      ],
      "metadata": {
        "id": "WTbsDXtZs66i"
      }
    }
  ]
}