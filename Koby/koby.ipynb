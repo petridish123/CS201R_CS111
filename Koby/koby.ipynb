{
  "nbformat": 4,
  "nbformat_minor": 0,
  "metadata": {
    "colab": {
      "provenance": []
    },
    "kernelspec": {
      "name": "python3",
      "display_name": "Python 3"
    },
    "language_info": {
      "name": "python"
    }
  },
  "cells": [
    {
      "cell_type": "markdown",
      "source": [
        "**Koby's CS111 Notebook**"
      ],
      "metadata": {
        "id": "8oSqjWqAJfor"
      }
    },
    {
      "cell_type": "code",
      "source": [
        "import numpy as np\n",
        "import pandas as pd\n",
        "import matplotlib.pyplot as plt\n",
        "from sklearn.neural_network import MLPClassifier\n",
        "from sklearn.neural_network import MLPRegressor\n",
        "\n",
        "from sklearn.neighbors import KNeighborsRegressor\n",
        "from sklearn.tree import DecisionTreeRegressor\n",
        "from sklearn.model_selection import train_test_split"
      ],
      "metadata": {
        "id": "QrxOTeHwJeNS"
      },
      "execution_count": 20,
      "outputs": []
    },
    {
      "cell_type": "code",
      "source": [
        "# Fetch training data\n",
        "#!curl --remote-name \\-H 'Accept: application/vnd.github.v3.raw' \\--location https://github.com/petridish123/CS201R_CS111/blob/89c6e77108581e0ecc1f0eaf7ed57f9a91b3f9fe/Koby/pre_mt2_train.csv\n",
        "#file doesnt work when i use that ^^\n",
        "\n",
        "#Load and split data\n",
        "grades_upto_mid2 = pd.read_csv(\"pre_mt2_train.csv\")\n",
        "X = grades_upto_mid2.iloc[:,:-2]\n",
        "y_scores = grades_upto_mid2.iloc[:,-2]\n",
        "\n",
        "y_grades = grades_upto_mid2.iloc[:,-1]\n",
        "#print(y_scores)\n",
        "X_train, X_test, y_train, y_test = train_test_split(X,y_grades, test_size=.2)"
      ],
      "metadata": {
        "id": "G_Ga5WR3Ro7n"
      },
      "execution_count": 19,
      "outputs": []
    },
    {
      "cell_type": "code",
      "source": [
        "mlp = MLPClassifier(hidden_layer_sizes=(16,4), activation='logistic', solver= 'sgd', alpha= 0, batch_size= 1, learning_rate_init= .01, shuffle= True, momentum= 0, n_iter_no_change=50, max_iter=1000,)\n",
        "mlp.fit(X_train, y_train)\n",
        "print(\"Training set score: %f\" % mlp.score(X_train, y_train))\n",
        "print(\"Test set score: %f\" % mlp.score(X_test, y_test))"
      ],
      "metadata": {
        "colab": {
          "base_uri": "https://localhost:8080/"
        },
        "id": "aKF31HvxShD_",
        "outputId": "14f6c85f-3474-412c-86b2-acc54d93e49e"
      },
      "execution_count": 48,
      "outputs": [
        {
          "output_type": "stream",
          "name": "stdout",
          "text": [
            "Training set score: 0.358025\n",
            "Test set score: 0.231707\n"
          ]
        }
      ]
    },
    {
      "cell_type": "markdown",
      "source": [
        "**MLP Classifier**\n",
        "\n",
        "With starting with 30 ish% testing accuracy.\n",
        "I tried a whole bunch of different layers and whatnot and couldnt get anything better."
      ],
      "metadata": {
        "id": "Piw2nZp9X7uf"
      }
    }
  ]
}