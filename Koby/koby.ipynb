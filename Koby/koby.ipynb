{
  "nbformat": 4,
  "nbformat_minor": 0,
  "metadata": {
    "colab": {
      "provenance": []
    },
    "kernelspec": {
      "name": "python3",
      "display_name": "Python 3"
    },
    "language_info": {
      "name": "python"
    }
  },
  "cells": [
    {
      "cell_type": "markdown",
      "source": [
        "**Koby's CS111 Notebook**"
      ],
      "metadata": {
        "id": "8oSqjWqAJfor"
      }
    },
    {
      "cell_type": "code",
      "source": [
        "import numpy as np\n",
        "import pandas as pd\n",
        "import matplotlib.pyplot as plt\n",
        "from sklearn.neural_network import MLPClassifier\n",
        "from sklearn.neighbors import KNeighborsRegressor\n",
        "from sklearn.tree import DecisionTreeRegressor\n",
        "from sklearn.model_selection import train_test_split"
      ],
      "metadata": {
        "id": "QrxOTeHwJeNS"
      },
      "execution_count": null,
      "outputs": []
    },
    {
      "cell_type": "code",
      "source": [
        "# Fetch training data\n",
        "#!curl --remote-name \\-H 'Accept: application/vnd.github.v3.raw' \\--location https://github.com/petridish123/CS201R_CS111/blob/89c6e77108581e0ecc1f0eaf7ed57f9a91b3f9fe/Koby/pre_mt2_train.csv\n",
        "#file doesnt work when i use that ^^\n",
        "\n",
        "#Load and split data\n",
        "grades_upto_mid2 = pd.read_csv(\"pre_mt2_train.csv\")\n",
        "X = grades_upto_mid2.iloc[:,:-2]\n",
        "y_scores = grades_upto_mid2.iloc[:,-2]\n",
        "\n",
        "y_grades = grades_upto_mid2.iloc[:,-1]\n",
        "print(y_scores)\n",
        "X_train, X_test, y_train, y_test = train_test_split(X,y, test_size=.2)"
      ],
      "metadata": {
        "id": "G_Ga5WR3Ro7n",
        "outputId": "a867f23d-72c1-489d-aea0-18b1b556ea1b",
        "colab": {
          "base_uri": "https://localhost:8080/"
        }
      },
      "execution_count": 16,
      "outputs": [
        {
          "output_type": "stream",
          "name": "stdout",
          "text": [
            "0      40.0\n",
            "1      44.0\n",
            "2      45.0\n",
            "3       0.0\n",
            "4      34.0\n",
            "       ... \n",
            "401    45.0\n",
            "402    45.0\n",
            "403    32.0\n",
            "404    42.0\n",
            "405    43.0\n",
            "Name: Midterm 2, Length: 406, dtype: float64\n"
          ]
        }
      ]
    },
    {
      "cell_type": "code",
      "source": [
        "mlp = MLPClassifier(hidden_layer_sizes=(64,), activation='logistic', solver= 'sgd', alpha= 0, batch_size= 1, learning_rate_init= 0.01, shuffle= True, momentum= 0, n_iter_no_change=50, max_iter=1000,)\n",
        "mlp.fit(X_train, y_train)\n",
        "print(mlp.n_iter_)\n",
        "print(\"Training set score: %f\" % mlp.score(X_train, y_train))\n",
        "print(\"Test set score: %f\" % mlp.score(X_test, y_test))"
      ],
      "metadata": {
        "id": "aKF31HvxShD_"
      },
      "execution_count": null,
      "outputs": []
    }
  ]
}