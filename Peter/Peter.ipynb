{
 "cells": [
  {
   "cell_type": "markdown",
   "metadata": {},
   "source": [
    "# Peter Gordon's section of the code\n",
    "## tasks:\n",
    "- manipulate the data\n",
    "- use two or three different models with hyperparameters\n",
    "\n",
    "## outcome:\n",
    "- to find what manipulation of the data will predict the final grade the best"
   ]
  },
  {
   "cell_type": "code",
   "execution_count": 6,
   "metadata": {},
   "outputs": [],
   "source": [
    "#managing imports\n",
    "import numpy as np\n",
    "import pandas as pd\n",
    "import matplotlib.pyplot as plt\n",
    "from sklearn.neighbors import KNeighborsRegressor\n",
    "from sklearn.tree import DecisionTreeRegressor\n",
    "from sklearn.model_selection import train_test_split\n"
   ]
  },
  {
   "cell_type": "code",
   "execution_count": 15,
   "metadata": {},
   "outputs": [],
   "source": [
    "#Loading the data\n",
    "grade_base_data = pd.read_csv(\"Training_set.csv\")\n",
    "\n",
    "#setting the X, y, train and test\n",
    "X = grade_base_data.iloc[:,:-1]\n",
    "y = grade_base_data.iloc[:,-1]\n",
    "\n",
    "#setting the train test split to 80/20\n",
    "X_train, X_test, y_train, y_test = train_test_split(X,y, test_size=.2)"
   ]
  },
  {
   "cell_type": "code",
   "execution_count": null,
   "metadata": {},
   "outputs": [],
   "source": [
    "#Peak at the data.\n",
    "print(X)\n",
    "print(y)"
   ]
  },
  {
   "cell_type": "markdown",
   "metadata": {},
   "source": [
    "* At this point I have looked at the data\n",
    "* The data is split up so that X is all data except the Final grade"
   ]
  },
  {
   "cell_type": "code",
   "execution_count": 20,
   "metadata": {},
   "outputs": [
    {
     "name": "stdout",
     "output_type": "stream",
     "text": [
      "Training score: 0.5644413388680896\n",
      "Testing score: 0.37337791105658735\n"
     ]
    }
   ],
   "source": [
    "#Setting up the Classifier clf as a KNN regressor with default parameters\n",
    "clf = KNeighborsRegressor()\n",
    "#Fitting the classifier with the training data\n",
    "clf.fit(X_train,y_train)\n",
    "\n",
    "#checking the score of the default KNN Regressor\n",
    "print(f\"Training score: {clf.score(X_train,y_train)}\")\n",
    "print(f\"Testing score: {clf.score(X_test,y_test)}\")"
   ]
  },
  {
   "cell_type": "code",
   "execution_count": 57,
   "metadata": {},
   "outputs": [
    {
     "name": "stdout",
     "output_type": "stream",
     "text": [
      "Training score: 0.8801448079370845\n",
      "Testing score: 0.3512019891192997\n"
     ]
    }
   ],
   "source": [
    "#Setting up the Classifier clf as a KNN regressor Changing the parameters\n",
    "clf = KNeighborsRegressor(n_neighbors= 5, weights=\"distance\", algorithm=\"auto\")\n",
    "#Fitting the classifier with the training data\n",
    "clf.fit(X_train,y_train)\n",
    "\n",
    "#checking the score of the parameter KNN Regressor\n",
    "print(f\"Training score: {clf.score(X_train,y_train)}\")\n",
    "print(f\"Testing score: {clf.score(X_test,y_test)}\")"
   ]
  },
  {
   "cell_type": "code",
   "execution_count": 67,
   "metadata": {},
   "outputs": [
    {
     "name": "stdout",
     "output_type": "stream",
     "text": [
      "Training score: 0.8813494188025747\n",
      "Testing score: 0.007548647795510455\n"
     ]
    }
   ],
   "source": [
    "# Setting up clf as a decision tree regressor default parameters\n",
    "clf = DecisionTreeRegressor()\n",
    "# fitting the data\n",
    "clf.fit(X_train,y_train)\n",
    "\n",
    "#checking the score of the default DT Regressor\n",
    "print(f\"Training score: {clf.score(X_train,y_train)}\")\n",
    "print(f\"Testing score: {clf.score(X_test,y_test)}\")"
   ]
  },
  {
   "cell_type": "markdown",
   "metadata": {},
   "source": [
    "## Outcome of changing the parameters was:\n",
    "* Found that the best testing accuracy was never greater than 37% with knn regressor\n",
    "* Training accuracy clearly overfit a little\n",
    "* KNN may not be the best model"
   ]
  },
  {
   "cell_type": "markdown",
   "metadata": {},
   "source": [
    "# Begining of data manipulation\n"
   ]
  }
 ],
 "metadata": {
  "kernelspec": {
   "display_name": "Python 3",
   "language": "python",
   "name": "python3"
  },
  "language_info": {
   "codemirror_mode": {
    "name": "ipython",
    "version": 3
   },
   "file_extension": ".py",
   "mimetype": "text/x-python",
   "name": "python",
   "nbconvert_exporter": "python",
   "pygments_lexer": "ipython3",
   "version": "3.10.12"
  }
 },
 "nbformat": 4,
 "nbformat_minor": 2
}
