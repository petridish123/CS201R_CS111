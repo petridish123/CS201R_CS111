{
 "cells": [
  {
   "cell_type": "markdown",
   "metadata": {},
   "source": [
    "# Peter Gordon's section of the code\n",
    "## tasks:\n",
    "- manipulate the data\n",
    "- use two or three different models with hyperparameters\n",
    "\n",
    "## outcome:\n",
    "- to find what manipulation of the data will predict the final grade the best"
   ]
  },
  {
   "cell_type": "code",
   "execution_count": 6,
   "metadata": {},
   "outputs": [],
   "source": [
    "#managing imports\n",
    "import numpy as np\n",
    "import pandas as pd\n",
    "import matplotlib.pyplot as plt\n",
    "from sklearn.neighbors import KNeighborsRegressor\n",
    "from sklearn.tree import DecisionTreeRegressor\n",
    "from sklearn.model_selection import train_test_split\n"
   ]
  },
  {
   "cell_type": "code",
   "execution_count": 15,
   "metadata": {},
   "outputs": [],
   "source": [
    "#Loading the data\n",
    "grade_base_data = pd.read_csv(\"Training_set.csv\")\n",
    "\n",
    "#setting the X, y, train and test\n",
    "X = grade_base_data.iloc[:,:-1]\n",
    "y = grade_base_data.iloc[:,-1]\n",
    "\n",
    "#setting the train test split to 80/20\n",
    "X_train, X_test, y_train, y_test = train_test_split(X,y, test_size=.2)"
   ]
  },
  {
   "cell_type": "code",
   "execution_count": null,
   "metadata": {},
   "outputs": [],
   "source": [
    "#Peak at the data.\n",
    "print(X)\n",
    "print(y)"
   ]
  },
  {
   "cell_type": "markdown",
   "metadata": {},
   "source": [
    "* At this point I have looked at the data\n",
    "* The data is split up so that X is all data except the Final grade"
   ]
  },
  {
   "cell_type": "code",
   "execution_count": 20,
   "metadata": {},
   "outputs": [
    {
     "name": "stdout",
     "output_type": "stream",
     "text": [
      "Training score: 0.5644413388680896\n",
      "Testing score: 0.37337791105658735\n"
     ]
    }
   ],
   "source": [
    "#Setting up the Classifier clf as a KNN regressor with default parameters\n",
    "clf = KNeighborsRegressor()\n",
    "#Fitting the classifier with the training data\n",
    "clf.fit(X_train,y_train)\n",
    "\n",
    "#checking the score of the default KNN Regressor\n",
    "print(f\"Training score: {clf.score(X_train,y_train)}\")\n",
    "print(f\"Testing score: {clf.score(X_test,y_test)}\")"
   ]
  },
  {
   "cell_type": "code",
   "execution_count": 57,
   "metadata": {},
   "outputs": [
    {
     "name": "stdout",
     "output_type": "stream",
     "text": [
      "Training score: 0.8801448079370845\n",
      "Testing score: 0.3512019891192997\n"
     ]
    }
   ],
   "source": [
    "#Setting up the Classifier clf as a KNN regressor Changing the parameters\n",
    "clf = KNeighborsRegressor(n_neighbors= 5, weights=\"distance\", algorithm=\"auto\")\n",
    "#Fitting the classifier with the training data\n",
    "clf.fit(X_train,y_train)\n",
    "\n",
    "#checking the score of the parameter KNN Regressor\n",
    "print(f\"Training score: {clf.score(X_train,y_train)}\")\n",
    "print(f\"Testing score: {clf.score(X_test,y_test)}\")"
   ]
  },
  {
   "cell_type": "code",
   "execution_count": 67,
   "metadata": {},
   "outputs": [
    {
     "name": "stdout",
     "output_type": "stream",
     "text": [
      "Training score: 0.8813494188025747\n",
      "Testing score: 0.007548647795510455\n"
     ]
    }
   ],
   "source": [
    "# Setting up clf as a decision tree regressor default parameters\n",
    "clf = DecisionTreeRegressor()\n",
    "# fitting the data\n",
    "clf.fit(X_train,y_train)\n",
    "\n",
    "#checking the score of the default DT Regressor\n",
    "print(f\"Training score: {clf.score(X_train,y_train)}\")\n",
    "print(f\"Testing score: {clf.score(X_test,y_test)}\")"
   ]
  },
  {
   "cell_type": "markdown",
   "metadata": {},
   "source": [
    "## Outcome of changing the parameters was:\n",
    "* Found that the best testing accuracy was never greater than 37% with knn regressor\n",
    "* Training accuracy clearly overfit a little\n",
    "* KNN may not be the best model"
   ]
  },
  {
   "cell_type": "markdown",
   "metadata": {},
   "source": [
    "# Begining of data manipulation\n"
   ]
  },
  {
   "cell_type": "markdown",
   "metadata": {},
   "source": [
    "`GASLIGHT GATEKEEP GIRLBOSS`"
   ]
  },
  {
   "cell_type": "code",
   "execution_count": 24,
   "metadata": {},
   "outputs": [],
   "source": [
    "# averaging all the lab grades\n",
    "\n",
    "\n",
    "import numpy as np\n",
    "import pandas as pd\n",
    "\n",
    "\n",
    "data = pd.read_csv(\"pre_final_train.csv\")\n",
    "def manipulate(data):\n",
    "    averages = []\n",
    "    for index, row in data.iterrows():\n",
    "        total = 0\n",
    "        n = 20\n",
    "        for column in data:\n",
    "            if \"Lab\" in column:\n",
    "                total += row[column]\n",
    "        average = total/n\n",
    "        averages.append(average)\n",
    "    data[\"avg_lab\"] = averages\n",
    "\n",
    "\n",
    "\n",
    "    #averaging the homeworks\n",
    "    averages = []\n",
    "    for index, row in data.iterrows():\n",
    "        total = 0\n",
    "        n = 7\n",
    "        for column in data:\n",
    "            if \"Homework\" in column:\n",
    "                total += row[column]\n",
    "        average = total/n\n",
    "        averages.append(average)\n",
    "    data[\"avg_hw\"] = averages\n",
    "\n",
    "\n",
    "    averages = []\n",
    "    for index, row in data.iterrows():\n",
    "        total = 0\n",
    "        n = 5\n",
    "        for column in data:\n",
    "            if \"Proj\" in column:\n",
    "                total += row[column]\n",
    "                \n",
    "        average = total/n\n",
    "        averages.append(average)\n",
    "        \n",
    "\n",
    "    data[\"avg_proj\"] = averages\n",
    "    return data\n",
    "\n",
    "data = manipulate(data)\n",
    "\n",
    "\n",
    "\n"
   ]
  },
  {
   "cell_type": "code",
   "execution_count": 71,
   "metadata": {},
   "outputs": [
    {
     "name": "stdout",
     "output_type": "stream",
     "text": [
      "Training score: 0.6673569527673019\n",
      "Testing score: 0.6063892445947866\n",
      "Training score: 0.9839252700462909\n",
      "Testing score: 0.70167917361749\n"
     ]
    }
   ],
   "source": [
    "from sklearn.neighbors import KNeighborsClassifier, KNeighborsRegressor\n",
    "from sklearn.model_selection import train_test_split\n",
    "\n",
    "\n",
    "data = manipulate(pd.read_csv(\"pre_final_train.csv\"))\n",
    "test = manipulate(pd.read_csv(\"pre_final_test.csv\"))\n",
    "\n",
    "\n",
    "reg_y = data[\"Final Exam\"]\n",
    "reg_x = data[[\"avg_lab\",\"avg_hw\",\"avg_proj\", \"Midterm 1\", \"Midterm 2\"]]\n",
    "\n",
    "\n",
    "X_train, X_test, y_train, y_test = train_test_split(reg_x, reg_y, test_size=.2)\n",
    "\n",
    "clf = KNeighborsRegressor()\n",
    "clf.fit(X_train, y_train)\n",
    "\n",
    "print(f\"Training score: {clf.score(X_train,y_train)}\")\n",
    "print(f\"Testing score: {clf.score(X_test,y_test)}\")\n",
    "\n",
    "\n",
    "\n",
    "clf = KNeighborsRegressor(n_neighbors= 7, weights=\"distance\", algorithm=\"auto\")\n",
    "clf.fit(X_train, y_train)\n",
    "\n",
    "print(f\"Training score: {clf.score(X_train,y_train)}\")\n",
    "print(f\"Testing score: {clf.score(X_test,y_test)}\")\n",
    "# class_y = data[\"Final Exam Grade\"]\n",
    "# class_x = data[[\"avg_lab\",\"avg_hw\",\"avg_proj\", \"Midterm 1\", \"Midterm 2\"]]\n",
    "\n",
    "# X_train, X_test, y_train, y_test = train_test_split(class_x, class_y, test_size=.2)\n",
    "\n",
    "# clf = KNeighborsClassifier()\n",
    "# clf.fit(X_train, y_train)\n",
    "\n",
    "# print(f\"Training score: {clf.score(X_train,y_train)}\")\n",
    "# print(f\"Testing score: {clf.score(X_test,y_test)}\")\n",
    "\n",
    "# test_reg_data = pd.read_csv(\"pre_final_test.csv\")\n",
    "\n",
    "\n"
   ]
  },
  {
   "cell_type": "code",
   "execution_count": 57,
   "metadata": {},
   "outputs": [
    {
     "name": "stdout",
     "output_type": "stream",
     "text": [
      "Test score: 0.7314454690442004\n"
     ]
    }
   ],
   "source": [
    "data = manipulate(pd.read_csv(\"pre_final_train.csv\"))\n",
    "test = manipulate(pd.read_csv(\"pre_final_test.csv\"))\n",
    "\n",
    "reg_y = data[\"Final Exam\"]\n",
    "reg_x = data[[\"avg_lab\",\"avg_hw\",\"avg_proj\", \"Midterm 1\", \"Midterm 2\"]]\n",
    "test_y = test[\"Final Exam\"]\n",
    "test_x = test[[\"avg_lab\",\"avg_hw\",\"avg_proj\", \"Midterm 1\", \"Midterm 2\"]]\n",
    "\n",
    "clf = KNeighborsRegressor(n_neighbors= 5, weights=\"distance\", algorithm=\"auto\")\n",
    "clf.fit(reg_x,reg_y)\n",
    "\n",
    "print(f\"Test score: {clf.score(test_x,test_y)}\")"
   ]
  },
  {
   "cell_type": "code",
   "execution_count": 74,
   "metadata": {},
   "outputs": [
    {
     "name": "stdout",
     "output_type": "stream",
     "text": [
      "[55.3142596  52.26836243 50.64561728 51.62681269 48.64764764 58.5\n",
      " 53.37343703 57.5        48.85561723 58.25       55.43199775 54.36635936\n",
      " 50.50793672 49.40446706  5.16163699 54.57142857 54.57142857 51.19152188\n",
      " 54.11573954 52.16051721 57.05434139 59.42857143 60.         50.14319986\n",
      " 43.56716679 49.00624607 53.09611882 57.56940353 53.74604937 59.28571429\n",
      " 56.3030185  50.05538476 54.902928   54.53663103 59.28571429 54.93307676\n",
      " 54.57142857 51.79278598 56.7        53.59376924 58.91306033 58.67808317\n",
      " 52.32609867 54.57142857 59.42857143 57.644715   44.67677761 53.18434319\n",
      " 59.42857143 56.3902439  58.46350622 48.93030958 53.90432851 58.5\n",
      " 44.18903358 54.2717243  53.70011266 51.98417182 60.48115125 58.49514684\n",
      " 55.59251203 51.         52.71423498 50.27825633 59.28571429 57.78298725\n",
      " 54.57142857 50.08983039 51.06832366 55.89441327 47.41687516 60.\n",
      " 59.89432177 50.41908411 57.53916173 51.2479433  52.92748306 56.62643533\n",
      " 58.01650422 48.31119379 50.29409041 57.55101864 59.42857143 50.78394451\n",
      " 55.5        51.38134001 52.0909527  59.42857143 48.73889495 58.46350622\n",
      " 49.37767439 49.03652956 56.7        48.95120513 59.42857143 58.76403397\n",
      " 49.         52.32861392 59.42857143 52.64085392 60.          0.        ]\n"
     ]
    }
   ],
   "source": [
    "print(clf.predict(test_x))"
   ]
  },
  {
   "cell_type": "code",
   "execution_count": 77,
   "metadata": {},
   "outputs": [
    {
     "name": "stdout",
     "output_type": "stream",
     "text": [
      "[59.  51.  50.  60.  51.  58.  56.  57.  56.  63.  57.  53.  41.  50.\n",
      "  0.  56.  61.  52.5 58.  57.  55.  58.  63.  52.5 49.  44.  59.5 56.\n",
      " 50.  57.  55.  52.  56.  49.  57.  60.  48.  52.5 58.  55.  56.  57.\n",
      " 56.  58.  54.  57.  41.5 51.  61.  49.  54.  45.  49.  52.  47.  59.\n",
      " 51.  59.  58.  63.  53.  60.  59.  50.  62.  51.  61.  53.  58.  49.\n",
      " 30.  56.  59.  51.  57.  54.  52.  53.  52.  52.5 40.  55.  61.  53.\n",
      " 62.  55.  46.  61.  39.  57.  47.  45.5 54.  43.  59.  49.  51.  54.\n",
      " 54.  53.  62.   0. ]\n"
     ]
    }
   ],
   "source": [
    "print(np.array(test_y))"
   ]
  },
  {
   "cell_type": "code",
   "execution_count": 86,
   "metadata": {},
   "outputs": [],
   "source": [
    "np.sum((clf.predict(test_x)-test_y)**2)\n",
    "new_ = clf.predict(test_x)-test_y\n"
   ]
  }
 ],
 "metadata": {
  "kernelspec": {
   "display_name": "Python 3",
   "language": "python",
   "name": "python3"
  },
  "language_info": {
   "codemirror_mode": {
    "name": "ipython",
    "version": 3
   },
   "file_extension": ".py",
   "mimetype": "text/x-python",
   "name": "python",
   "nbconvert_exporter": "python",
   "pygments_lexer": "ipython3",
   "version": "3.10.12"
  }
 },
 "nbformat": 4,
 "nbformat_minor": 2
}
