{
 "cells": [
  {
   "cell_type": "code",
   "execution_count": 1,
   "metadata": {},
   "outputs": [],
   "source": [
    "import pandas as pd\n",
    "import re"
   ]
  },
  {
   "cell_type": "code",
   "execution_count": 2,
   "metadata": {},
   "outputs": [
    {
     "name": "stdout",
     "output_type": "stream",
     "text": [
      "Index(['Lab 02', 'Lab 03', 'Lab 04', 'Lab 05', 'Lab 06', 'Lab 07', 'Lab 08',\n",
      "       'Lab 09', 'Lab 10', 'Lab 11', 'Lab 12', 'Lab 13', 'Lab 14', 'Lab 15',\n",
      "       'Lab 16', 'Lab 17', 'Lab 20', 'Lab 21', 'Lab 22', 'Lab 23',\n",
      "       'Homework 1', 'Homework 2', 'Homework 3', 'Homework 4', 'Homework 5',\n",
      "       'Homework 6', 'Homework 7', 'Project 1', 'Project 2A', 'Project 2B',\n",
      "       'Project 3', 'Project 4', 'Extra Credit', 'Midterm 1', 'Midterm 2',\n",
      "       'Final Exam', 'Free Coding', 'Assignments Current Score',\n",
      "       'Assignments Unposted Current Score', 'Assignments Final Score',\n",
      "       'Assignments Unposted Final Score', 'Assessments Current Score',\n",
      "       'Assessments Unposted Current Score', 'Assessments Final Score',\n",
      "       'Assessments Unposted Final Score', 'Labs Current Score',\n",
      "       'Labs Unposted Current Score', 'Labs Final Score',\n",
      "       'Labs Unposted Final Score', 'Homework Current Score',\n",
      "       'Homework Unposted Current Score', 'Homework Final Score',\n",
      "       'Homework Unposted Final Score', 'Projects Current Score',\n",
      "       'Projects Unposted Current Score', 'Projects Final Score',\n",
      "       'Projects Unposted Final Score', 'Midterm 1 Current Score',\n",
      "       'Midterm 1 Unposted Current Score', 'Midterm 1 Final Score',\n",
      "       'Midterm 1 Unposted Final Score', 'Midterm 2 Current Score',\n",
      "       'Midterm 2 Unposted Current Score', 'Midterm 2 Final Score',\n",
      "       'Midterm 2 Unposted Final Score', 'Final Exam Current Score',\n",
      "       'Final Exam Unposted Current Score', 'Final Exam Final Score',\n",
      "       'Final Exam Unposted Final Score', 'Extra Credit Current Score',\n",
      "       'Extra Credit Unposted Current Score', 'Extra Credit Final Score',\n",
      "       'Extra Credit Unposted Final Score',\n",
      "       'Imported Assignments Current Score',\n",
      "       'Imported Assignments Unposted Current Score',\n",
      "       'Imported Assignments Final Score',\n",
      "       'Imported Assignments Unposted Final Score', 'Current Score',\n",
      "       'Unposted Current Score', 'Final Score', 'Unposted Final Score',\n",
      "       'Current Grade', 'Unposted Current Grade', 'Final Grade',\n",
      "       'Unposted Final Grade'],\n",
      "      dtype='object')\n"
     ]
    }
   ],
   "source": [
    "data = pd.read_csv('2024-02-08T1531_Grades-C_S_111_(Fall_23).csv')\n",
    "\n",
    "data.rename(columns=lambda x: re.sub('\\s\\([^)]*\\)', '', x), inplace=True)\n",
    "\n",
    "data = data[~data.isin(['(read only)']).any(axis=1)]\n",
    "\n",
    "grade_mapping = {'A': 0, 'A-': 1, 'B+': 2, 'B': 3, 'B-': 4,\n",
    "                 'C+': 5, 'C': 6, 'C-': 7, 'D+': 8, 'D': 9,\n",
    "                 'D-': 10, 'E': 11}\n",
    "\n",
    "for column in data.columns:\n",
    "    if column.endswith('Grade'):\n",
    "        data[column] = data[column].map(grade_mapping)\n",
    "\n",
    "data.fillna(0, inplace=True)\n",
    "print(data.columns)"
   ]
  },
  {
   "cell_type": "code",
   "execution_count": 3,
   "metadata": {},
   "outputs": [
    {
     "name": "stdout",
     "output_type": "stream",
     "text": [
      "Number of students in the class: 507\n",
      "Number of columns: 85\n"
     ]
    }
   ],
   "source": [
    "print(f'Number of students in the class: {len(data)}')\n",
    "print(f'Number of columns: {len(data.columns)}')"
   ]
  },
  {
   "cell_type": "code",
   "execution_count": 4,
   "metadata": {},
   "outputs": [
    {
     "name": "stdout",
     "output_type": "stream",
     "text": [
      "Index(['Lab 02', 'Lab 03', 'Lab 04', 'Lab 05', 'Lab 06', 'Lab 07', 'Lab 08',\n",
      "       'Lab 09', 'Lab 10', 'Lab 11', 'Lab 12', 'Lab 13', 'Lab 14', 'Lab 15',\n",
      "       'Lab 16', 'Lab 17', 'Lab 20', 'Lab 21', 'Lab 22', 'Lab 23',\n",
      "       'Homework 1', 'Homework 2', 'Homework 3', 'Homework 4', 'Homework 5',\n",
      "       'Homework 6', 'Homework 7', 'Project 1', 'Project 2A', 'Project 2B',\n",
      "       'Project 3', 'Project 4', 'Extra Credit', 'Midterm 1', 'Midterm 2',\n",
      "       'Final Exam', 'Free Coding', 'Final Score'],\n",
      "      dtype='object')\n",
      "New number of columns: 38\n"
     ]
    },
    {
     "name": "stderr",
     "output_type": "stream",
     "text": [
      "C:\\Users\\Joseph\\AppData\\Local\\Temp\\ipykernel_12516\\2901942776.py:2: SettingWithCopyWarning: \n",
      "A value is trying to be set on a copy of a slice from a DataFrame.\n",
      "Try using .loc[row_indexer,col_indexer] = value instead\n",
      "\n",
      "See the caveats in the documentation: https://pandas.pydata.org/pandas-docs/stable/user_guide/indexing.html#returning-a-view-versus-a-copy\n",
      "  truncated_data['Final Score'] = data['Final Score'].copy()\n"
     ]
    }
   ],
   "source": [
    "truncated_data = data.filter(regex='^(?!Unposted)(?!.*Score$)(?!.*Grade$).*')\n",
    "truncated_data['Final Score'] = data['Final Score'].copy()\n",
    "print(truncated_data.columns)\n",
    "print(f'New number of columns: {len(truncated_data.columns)}')"
   ]
  },
  {
   "cell_type": "code",
   "execution_count": 5,
   "metadata": {},
   "outputs": [
    {
     "name": "stdout",
     "output_type": "stream",
     "text": [
      "Index(['Lab 02', 'Lab 03', 'Lab 04', 'Lab 05', 'Lab 06', 'Lab 07', 'Lab 08',\n",
      "       'Lab 09', 'Lab 10', 'Lab 11', 'Lab 12', 'Lab 13', 'Lab 14', 'Lab 15',\n",
      "       'Lab 16', 'Lab 17', 'Lab 20', 'Lab 21', 'Lab 22', 'Lab 23'],\n",
      "      dtype='object')\n"
     ]
    }
   ],
   "source": [
    "lab_data = truncated_data.filter(regex='^Lab')\n",
    "print(lab_data.columns)"
   ]
  },
  {
   "cell_type": "code",
   "execution_count": 6,
   "metadata": {},
   "outputs": [
    {
     "name": "stdout",
     "output_type": "stream",
     "text": [
      "Index(['Homework 1', 'Homework 2', 'Homework 3', 'Homework 4', 'Homework 5',\n",
      "       'Homework 6', 'Homework 7'],\n",
      "      dtype='object')\n"
     ]
    }
   ],
   "source": [
    "hw_data = truncated_data.filter(regex='^Homework')\n",
    "print(hw_data.columns)"
   ]
  },
  {
   "cell_type": "code",
   "execution_count": 7,
   "metadata": {},
   "outputs": [
    {
     "name": "stdout",
     "output_type": "stream",
     "text": [
      "Index(['Project 1', 'Project 2A', 'Project 2B', 'Project 3', 'Project 4'], dtype='object')\n"
     ]
    }
   ],
   "source": [
    "proj_data = truncated_data.filter(regex='^Project')\n",
    "print(proj_data.columns)"
   ]
  },
  {
   "cell_type": "code",
   "execution_count": 8,
   "metadata": {},
   "outputs": [
    {
     "name": "stdout",
     "output_type": "stream",
     "text": [
      "Index(['Lab 02', 'Lab 03', 'Lab 04', 'Lab 05', 'Lab 06', 'Lab 07', 'Lab 08',\n",
      "       'Lab 09', 'Lab 10', 'Lab 11', 'Lab 12', 'Lab 13', 'Lab 14', 'Lab 15',\n",
      "       'Lab 16', 'Lab 17', 'Lab 20', 'Lab 21', 'Lab 22', 'Lab 23',\n",
      "       'Homework 1', 'Homework 2', 'Homework 3', 'Homework 4', 'Homework 5',\n",
      "       'Homework 6', 'Homework 7', 'Project 1', 'Project 2A', 'Project 2B',\n",
      "       'Project 3', 'Project 4'],\n",
      "      dtype='object')\n",
      "Lab 02         20.00\n",
      "Lab 03         15.00\n",
      "Lab 04         20.00\n",
      "Lab 05         17.31\n",
      "Lab 06         20.00\n",
      "Lab 07         20.00\n",
      "Lab 08         20.00\n",
      "Lab 09         20.00\n",
      "Lab 10         20.00\n",
      "Lab 11         20.00\n",
      "Lab 12         20.00\n",
      "Lab 13         20.00\n",
      "Lab 14         20.00\n",
      "Lab 15         20.00\n",
      "Lab 16         20.00\n",
      "Lab 17         20.00\n",
      "Lab 20         20.00\n",
      "Lab 21         20.00\n",
      "Lab 22         20.00\n",
      "Lab 23         20.00\n",
      "Homework 1     50.00\n",
      "Homework 2     50.00\n",
      "Homework 3     50.00\n",
      "Homework 4     50.00\n",
      "Homework 5     50.00\n",
      "Homework 6     50.00\n",
      "Homework 7      0.00\n",
      "Project 1     100.00\n",
      "Project 2A     50.00\n",
      "Project 2B     50.00\n",
      "Project 3     100.00\n",
      "Project 4       0.00\n",
      "Name: 1, dtype: float64\n"
     ]
    }
   ],
   "source": [
    "input_data = truncated_data.filter(regex='^(Homework|Lab|Project).*')\n",
    "print(input_data.columns)\n",
    "print(input_data.iloc[0])"
   ]
  },
  {
   "cell_type": "code",
   "execution_count": 9,
   "metadata": {},
   "outputs": [
    {
     "name": "stdout",
     "output_type": "stream",
     "text": [
      "Index(['Midterm 1', 'Midterm 2', 'Final Exam', 'Final Score'], dtype='object')\n",
      "Midterm 1       40.0\n",
      "Midterm 2       44.0\n",
      "Final Exam      54.0\n",
      "Final Score    92.13\n",
      "Name: 1, dtype: object\n"
     ]
    }
   ],
   "source": [
    "label_data = truncated_data[['Midterm 1', 'Midterm 2', 'Final Exam', 'Final Score']]\n",
    "print(label_data.columns)\n",
    "print(label_data.iloc[0])"
   ]
  },
  {
   "cell_type": "code",
   "execution_count": 10,
   "metadata": {},
   "outputs": [
    {
     "name": "stdout",
     "output_type": "stream",
     "text": [
      "Best Parameters: {'max_depth': 10, 'min_samples_leaf': 2, 'min_samples_split': 2, 'n_estimators': 50}\n"
     ]
    }
   ],
   "source": [
    "from sklearn.model_selection import train_test_split, GridSearchCV\n",
    "from sklearn.ensemble import RandomForestRegressor\n",
    "\n",
    "X = input_data.to_numpy()\n",
    "y = label_data.to_numpy()\n",
    "\n",
    "X_train, X_test, y_train, y_test = train_test_split(X, y, test_size=0.2, random_state=42)\n",
    "\n",
    "\n",
    "param_grid = {\n",
    "    'n_estimators': [50, 100, 150],\n",
    "    'max_depth': [None, 10, 20],\n",
    "    'min_samples_split': [2, 5, 10],\n",
    "    'min_samples_leaf': [1, 2, 4]\n",
    "}\n",
    "\n",
    "\n",
    "random_forest_model = RandomForestRegressor(random_state=42)\n",
    "\n",
    "grid_search = GridSearchCV(estimator=random_forest_model, param_grid=param_grid, cv=5, scoring='neg_mean_squared_error')\n",
    "grid_search.fit(X_train, y_train)\n",
    "\n",
    "print(f\"Best Parameters: {grid_search.best_params_}\")\n",
    "\n",
    "best_random_forest_model = grid_search.best_estimator_"
   ]
  },
  {
   "cell_type": "code",
   "execution_count": 13,
   "metadata": {},
   "outputs": [
    {
     "name": "stdout",
     "output_type": "stream",
     "text": [
      "R-squared: 0.6137633299246896\n",
      "Mean squared error: 30.016585756739374\n",
      "Student 1 predicted values (Midterm 1, Midterm 2, Final Exam, Final Score): [[34.30274475 41.05704024 51.83765269 88.51028645]]\n",
      "Student 1 actual values (Midterm 1, Midterm 2, Final Exam, Final Score): [40.0 44.0 54.0 '92.13']\n"
     ]
    }
   ],
   "source": [
    "from sklearn.metrics import mean_squared_error, r2_score\n",
    "\n",
    "y_pred = best_random_forest_model.predict(X_test)\n",
    "\n",
    "r2 = r2_score(y_test, y_pred)\n",
    "print(f\"R-squared: {r2}\")\n",
    "\n",
    "mse = mean_squared_error(y_test, y_pred)\n",
    "print(f\"Mean squared error: {mse}\")\n",
    "\n",
    "print(f\"Student 1 predicted values (Midterm 1, Midterm 2, Final Exam, Final Score): {best_random_forest_model.predict(X[0,:].reshape(1, -1))}\")\n",
    "print(f\"Student 1 actual values (Midterm 1, Midterm 2, Final Exam, Final Score): {y[0,:]}\")"
   ]
  }
 ],
 "metadata": {
  "kernelspec": {
   "display_name": "base",
   "language": "python",
   "name": "python3"
  },
  "language_info": {
   "codemirror_mode": {
    "name": "ipython",
    "version": 3
   },
   "file_extension": ".py",
   "mimetype": "text/x-python",
   "name": "python",
   "nbconvert_exporter": "python",
   "pygments_lexer": "ipython3",
   "version": "3.11.5"
  }
 },
 "nbformat": 4,
 "nbformat_minor": 2
}
