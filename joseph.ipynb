{
 "cells": [
  {
   "cell_type": "code",
   "execution_count": 13,
   "metadata": {},
   "outputs": [],
   "source": [
    "import pandas as pd\n",
    "import re"
   ]
  },
  {
   "cell_type": "code",
   "execution_count": 14,
   "metadata": {},
   "outputs": [],
   "source": [
    "data = pd.read_csv('2024-02-08T1531_Grades-C_S_111_(Fall_23).csv')\n",
    "\n",
    "data.rename(columns=lambda x: re.sub('\\s\\([^)]*\\)', '', x), inplace=True)"
   ]
  },
  {
   "cell_type": "code",
   "execution_count": 15,
   "metadata": {},
   "outputs": [
    {
     "name": "stdout",
     "output_type": "stream",
     "text": [
      "Lab 02\n",
      "Lab 03\n",
      "Lab 04\n",
      "Lab 05\n",
      "Lab 06\n",
      "Lab 07\n",
      "Lab 08\n",
      "Lab 09\n",
      "Lab 10\n",
      "Lab 11\n",
      "Lab 12\n",
      "Lab 13\n",
      "Lab 14\n",
      "Lab 15\n",
      "Lab 16\n",
      "Lab 17\n",
      "Lab 20\n",
      "Lab 21\n",
      "Lab 22\n",
      "Lab 23\n",
      "Homework 1\n",
      "Homework 2\n",
      "Homework 3\n",
      "Homework 4\n",
      "Homework 5\n",
      "Homework 6\n",
      "Homework 7\n",
      "Project 1\n",
      "Project 2A\n",
      "Project 2B\n",
      "Project 3\n",
      "Project 4\n",
      "Extra Credit\n",
      "Midterm 1\n",
      "Midterm 2\n",
      "Final Exam\n",
      "Free Coding\n",
      "Assignments Current Score\n",
      "Assignments Unposted Current Score\n",
      "Assignments Final Score\n",
      "Assignments Unposted Final Score\n",
      "Assessments Current Score\n",
      "Assessments Unposted Current Score\n",
      "Assessments Final Score\n",
      "Assessments Unposted Final Score\n",
      "Labs Current Score\n",
      "Labs Unposted Current Score\n",
      "Labs Final Score\n",
      "Labs Unposted Final Score\n",
      "Homework Current Score\n",
      "Homework Unposted Current Score\n",
      "Homework Final Score\n",
      "Homework Unposted Final Score\n",
      "Projects Current Score\n",
      "Projects Unposted Current Score\n",
      "Projects Final Score\n",
      "Projects Unposted Final Score\n",
      "Midterm 1 Current Score\n",
      "Midterm 1 Unposted Current Score\n",
      "Midterm 1 Final Score\n",
      "Midterm 1 Unposted Final Score\n",
      "Midterm 2 Current Score\n",
      "Midterm 2 Unposted Current Score\n",
      "Midterm 2 Final Score\n",
      "Midterm 2 Unposted Final Score\n",
      "Final Exam Current Score\n",
      "Final Exam Unposted Current Score\n",
      "Final Exam Final Score\n",
      "Final Exam Unposted Final Score\n",
      "Extra Credit Current Score\n",
      "Extra Credit Unposted Current Score\n",
      "Extra Credit Final Score\n",
      "Extra Credit Unposted Final Score\n",
      "Imported Assignments Current Score\n",
      "Imported Assignments Unposted Current Score\n",
      "Imported Assignments Final Score\n",
      "Imported Assignments Unposted Final Score\n",
      "Current Score\n",
      "Unposted Current Score\n",
      "Final Score\n",
      "Unposted Final Score\n",
      "Current Grade\n",
      "Unposted Current Grade\n",
      "Final Grade\n",
      "Unposted Final Grade\n"
     ]
    }
   ],
   "source": [
    "for col in data.columns:\n",
    "    print(col)"
   ]
  },
  {
   "cell_type": "code",
   "execution_count": 18,
   "metadata": {},
   "outputs": [
    {
     "name": "stdout",
     "output_type": "stream",
     "text": [
      "Number of students in the class: 508\n",
      "Number of columns: 85\n"
     ]
    }
   ],
   "source": [
    "print(f'Number of students in the class: {len(data)}')\n",
    "print(f'Number of columns: {len(data.columns)}')"
   ]
  },
  {
   "cell_type": "code",
   "execution_count": null,
   "metadata": {},
   "outputs": [],
   "source": []
  }
 ],
 "metadata": {
  "kernelspec": {
   "display_name": "base",
   "language": "python",
   "name": "python3"
  },
  "language_info": {
   "codemirror_mode": {
    "name": "ipython",
    "version": 3
   },
   "file_extension": ".py",
   "mimetype": "text/x-python",
   "name": "python",
   "nbconvert_exporter": "python",
   "pygments_lexer": "ipython3",
   "version": "3.11.5"
  }
 },
 "nbformat": 4,
 "nbformat_minor": 2
}
